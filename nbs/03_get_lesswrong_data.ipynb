{
 "cells": [
  {
   "cell_type": "markdown",
   "metadata": {},
   "source": [
    "# getting lesswrong data with novelty proxy\n",
    "\n",
    "maybe we can use score or baseVotes as a proxy for quality"
   ]
  },
  {
   "cell_type": "code",
   "execution_count": 1,
   "metadata": {},
   "outputs": [],
   "source": [
    "import json\n",
    "from pathlib import Path\n",
    "\n",
    "last_date = '2024-01-01'"
   ]
  },
  {
   "cell_type": "markdown",
   "metadata": {},
   "source": [
    "## with vanilla requests\n",
    "\n",
    "\n",
    "pip install markdownify"
   ]
  },
  {
   "cell_type": "code",
   "execution_count": 2,
   "metadata": {},
   "outputs": [],
   "source": [
    "import requests\n",
    "from loguru import logger\n",
    "import time\n",
    "from dataclasses import dataclass\n",
    "from markdownify import markdownify\n",
    "\n",
    "\n",
    "\n",
    "@dataclass\n",
    "class GreaterWrong:\n",
    "\n",
    "    \"\"\"\n",
    "    This class allows you to scrape posts and comments from GreaterWrong.\n",
    "    GreaterWrong contains all the posts from LessWrong (which contains the Alignment Forum) and the EA Forum.\n",
    "    from https://github.com/StampyAI/alignment-research-dataset/blob/main/align_data/sources/greaterwrong/greaterwrong.py#L156\n",
    "    \"\"\"\n",
    "\n",
    "    base_url: str = 'https://www.lesswrong.com'\n",
    "    start_year: int = 2000\n",
    "    min_karma: int = -10000\n",
    "    \"\"\"Posts must have at least this much karma to be returned.\"\"\"\n",
    "    af: bool = False\n",
    "    \"\"\"Whether alignment forum posts should be returned\"\"\"\n",
    "\n",
    "    limit = 50\n",
    "    COOLDOWN = 0.5\n",
    "    done_key = \"url\"\n",
    "    lazy_eval = True\n",
    "    source_type = 'GreaterWrong'\n",
    "    _outputted_items = (set(), set())\n",
    "    \n",
    "\n",
    "    def make_query(self, after: str):\n",
    "        return f'''\n",
    "        {{\n",
    "            posts(input: {{\n",
    "                terms: {{\n",
    "                    excludeEvents: true\n",
    "                    view: \"old\"\n",
    "                    af: {self.af}\n",
    "                    limit: {self.limit}\n",
    "                    karmaThreshold: {self.min_karma}\n",
    "                    after: \"{after}\"\n",
    "                    filter: \"tagged\"\n",
    "                }}\n",
    "            }}) {{\n",
    "                totalCount\n",
    "                results {{\n",
    "                    _id\n",
    "                    title\n",
    "                    slug\n",
    "                    pageUrl\n",
    "                    postedAt\n",
    "                    modifiedAt\n",
    "                    emojiReactors\n",
    "                    score\n",
    "                    extendedScore\n",
    "                    baseScore\n",
    "                    voteCount\n",
    "                    commentCount\n",
    "                    wordCount\n",
    "                    tags {{\n",
    "                        name\n",
    "                    }}\n",
    "                    user {{\n",
    "                        displayName\n",
    "                    }}\n",
    "                    coauthors {{\n",
    "                        displayName\n",
    "                    }}\n",
    "                    af\n",
    "                    htmlBody\n",
    "                    allVotes {{\n",
    "                        authorId\n",
    "                        _id\n",
    "                        power\n",
    "                        afPower\n",
    "                        isUnvote\n",
    "                        votedAt\n",
    "                    }}\n",
    "                }}\n",
    "            }}\n",
    "        }}\n",
    "        '''\n",
    "\n",
    "    def fetch_posts(self, query: str):\n",
    "        res = requests.post(\n",
    "            f\"{self.base_url}/graphql\",\n",
    "            # The GraphQL endpoint returns a 403 if the user agent isn't set... Makes sense, but is annoying\n",
    "            headers={\n",
    "                \"User-Agent\": \"Mozilla /5.0 (Macintosh; Intel Mac OS X 10.15; rv:109.0) Gecko/20100101 Firefox/113.0\"\n",
    "            },\n",
    "            json={\"query\": query},\n",
    "        )\n",
    "        try:\n",
    "            res.raise_for_status()\n",
    "        except requests.exceptions.HTTPError:\n",
    "            logger.error(f\"Failed to fetch posts: {res.text}\")\n",
    "            raise\n",
    "\n",
    "        try:\n",
    "            return res.json()[\"data\"][\"posts\"]\n",
    "        except KeyError:\n",
    "            raise ValueError(f\"Could not parse response: {res.text}\")\n",
    "\n",
    "\n",
    "    @property\n",
    "    def items_list(self):\n",
    "        next_date = self.last_date_published\n",
    "        logger.info(\"Starting from {next_date}\")\n",
    "        last_item = None\n",
    "        while next_date:\n",
    "            logger.info(f\"Fetching posts after {next_date}\")\n",
    "            posts = self.fetch_posts(self.make_query(next_date))\n",
    "            if not posts[\"results\"]:\n",
    "                return\n",
    "\n",
    "            # If the only item we find was the one we advanced our iterator to, we're done\n",
    "            if len(posts[\"results\"]) == 1 and last_item and posts[\"results\"][0][\"pageUrl\"] == last_item[\"pageUrl\"]:\n",
    "                return\n",
    "\n",
    "            for post in posts[\"results\"]:\n",
    "                if post[\"htmlBody\"]:\n",
    "                    yield post\n",
    "\n",
    "            last_item = posts[\"results\"][-1]\n",
    "            new_next_date = posts[\"results\"][-1][\"postedAt\"]\n",
    "            if next_date == new_next_date:\n",
    "                raise ValueError(f'could not advance through dataset, next date did not advance after {next_date}')\n",
    "\n",
    "            next_date = new_next_date\n",
    "            time.sleep(self.COOLDOWN)\n",
    "\n",
    "    def process_entry(self, item):\n",
    "        return self.make_data_entry(\n",
    "            {\n",
    "                \"title\": item[\"title\"],\n",
    "                \"text\": markdownify(item[\"htmlBody\"]).strip(),\n",
    "                \"url\": item[\"pageUrl\"],\n",
    "                \"date_published\": self._get_published_date(item),\n",
    "                \"modified_at\": item[\"modifiedAt\"],\n",
    "                \"source\": self.name,\n",
    "                \"source_type\": self.source_type,\n",
    "                \"votes\": item[\"voteCount\"],\n",
    "                \"karma\": item[\"baseScore\"],\n",
    "                \"tags\": [t[\"name\"] for t in item[\"tags\"]],\n",
    "                \"words\": item[\"wordCount\"],\n",
    "                \"comment_count\": item[\"commentCount\"],\n",
    "                \"authors\": self.extract_authors(item),\n",
    "            }\n",
    "        )"
   ]
  },
  {
   "cell_type": "code",
   "execution_count": 21,
   "metadata": {},
   "outputs": [],
   "source": [
    "gw = GreaterWrong()\n",
    "gw.last_date_published = '2023-01-01'\n",
    "\n",
    "import pandas as pd\n",
    "from tqdm.auto import tqdm\n",
    "\n",
    "cache_file = Path('output/01greaterwrong.json')\n",
    "cache_file.parent.mkdir(parents=True, exist_ok=True)"
   ]
  },
  {
   "cell_type": "markdown",
   "metadata": {},
   "source": [
    "https://www.lesswrong.com/graphiql"
   ]
  },
  {
   "cell_type": "code",
   "execution_count": 25,
   "metadata": {},
   "outputs": [
    {
     "name": "stdout",
     "output_type": "stream",
     "text": [
      "Loaded 9346 posts from cache\n"
     ]
    },
    {
     "data": {
      "text/plain": [
       "9346"
      ]
     },
     "execution_count": 25,
     "metadata": {},
     "output_type": "execute_result"
    }
   ],
   "source": [
    "if cache_file.exists():\n",
    "    with cache_file.open() as f:\n",
    "        posts = json.load(f)\n",
    "    print(f'Loaded {len(posts)} posts from cache')\n",
    "else:\n",
    "    \n",
    "    posts = []\n",
    "    for post in tqdm(gw.items_list):\n",
    "        posts.append(post)\n",
    "\n",
    "    cache_file.write_text(json.dumps(posts, indent=2))\n",
    "len(posts)"
   ]
  },
  {
   "cell_type": "code",
   "execution_count": 109,
   "metadata": {},
   "outputs": [
    {
     "name": "stdout",
     "output_type": "stream",
     "text": [
      "<class 'pandas.core.frame.DataFrame'>\n",
      "RangeIndex: 9346 entries, 0 to 9345\n",
      "Data columns (total 18 columns):\n",
      " #   Column         Non-Null Count  Dtype              \n",
      "---  ------         --------------  -----              \n",
      " 0   _id            9346 non-null   object             \n",
      " 1   title          9346 non-null   object             \n",
      " 2   slug           9346 non-null   object             \n",
      " 3   pageUrl        9346 non-null   object             \n",
      " 4   postedAt       9346 non-null   datetime64[ns, UTC]\n",
      " 5   modifiedAt     9346 non-null   datetime64[ns, UTC]\n",
      " 6   score          9346 non-null   float64            \n",
      " 7   extendedScore  7034 non-null   object             \n",
      " 8   baseScore      9346 non-null   int64              \n",
      " 9   voteCount      9346 non-null   int64              \n",
      " 10  commentCount   9346 non-null   int64              \n",
      " 11  wordCount      9346 non-null   int64              \n",
      " 12  tags           9346 non-null   object             \n",
      " 13  user           9270 non-null   object             \n",
      " 14  coauthors      9346 non-null   object             \n",
      " 15  af             9346 non-null   bool               \n",
      " 16  htmlBody       9346 non-null   object             \n",
      " 17  allVotes       9346 non-null   object             \n",
      "dtypes: bool(1), datetime64[ns, UTC](2), float64(1), int64(4), object(10)\n",
      "memory usage: 1.2+ MB\n"
     ]
    }
   ],
   "source": [
    "df = pd.DataFrame(posts)\n",
    "df.drop(columns=['emojiReactors'], inplace=True)\n",
    "for col in ['postedAt', 'modifiedAt']:\n",
    "    df[col] = pd.to_datetime(df[col])\n",
    "p_file = Path('output/01greaterwrong.json')\n",
    "df.to_parquet(p_file)\n",
    "df.info()"
   ]
  },
  {
   "cell_type": "code",
   "execution_count": 110,
   "metadata": {},
   "outputs": [],
   "source": [
    "df = df[['title', 'pageUrl', 'modifiedAt', 'htmlBody', 'score', 'baseScore', 'voteCount', 'wordCount', 'slug']]\n",
    "df = df[\n",
    "    (df['modifiedAt'] > last_date)\n",
    "    & (df['voteCount'] > 10)\n",
    "     ].sort_values('score', ascending=False)"
   ]
  },
  {
   "cell_type": "code",
   "execution_count": 111,
   "metadata": {},
   "outputs": [
    {
     "data": {
      "text/html": [
       "<div>\n",
       "<style scoped>\n",
       "    .dataframe tbody tr th:only-of-type {\n",
       "        vertical-align: middle;\n",
       "    }\n",
       "\n",
       "    .dataframe tbody tr th {\n",
       "        vertical-align: top;\n",
       "    }\n",
       "\n",
       "    .dataframe thead th {\n",
       "        text-align: right;\n",
       "    }\n",
       "</style>\n",
       "<table border=\"1\" class=\"dataframe\">\n",
       "  <thead>\n",
       "    <tr style=\"text-align: right;\">\n",
       "      <th></th>\n",
       "      <th>score</th>\n",
       "      <th>baseScore</th>\n",
       "      <th>voteCount</th>\n",
       "      <th>wordCount</th>\n",
       "    </tr>\n",
       "  </thead>\n",
       "  <tbody>\n",
       "    <tr>\n",
       "      <th>count</th>\n",
       "      <td>2385.000000</td>\n",
       "      <td>2385.000000</td>\n",
       "      <td>2385.000000</td>\n",
       "      <td>2385.000000</td>\n",
       "    </tr>\n",
       "    <tr>\n",
       "      <th>mean</th>\n",
       "      <td>0.018153</td>\n",
       "      <td>71.339203</td>\n",
       "      <td>36.330398</td>\n",
       "      <td>2963.753040</td>\n",
       "    </tr>\n",
       "    <tr>\n",
       "      <th>std</th>\n",
       "      <td>0.104511</td>\n",
       "      <td>68.800261</td>\n",
       "      <td>38.117311</td>\n",
       "      <td>3937.558236</td>\n",
       "    </tr>\n",
       "    <tr>\n",
       "      <th>min</th>\n",
       "      <td>-0.017480</td>\n",
       "      <td>-50.000000</td>\n",
       "      <td>11.000000</td>\n",
       "      <td>0.000000</td>\n",
       "    </tr>\n",
       "    <tr>\n",
       "      <th>25%</th>\n",
       "      <td>0.001787</td>\n",
       "      <td>32.000000</td>\n",
       "      <td>16.000000</td>\n",
       "      <td>730.000000</td>\n",
       "    </tr>\n",
       "    <tr>\n",
       "      <th>50%</th>\n",
       "      <td>0.003472</td>\n",
       "      <td>50.000000</td>\n",
       "      <td>24.000000</td>\n",
       "      <td>1660.000000</td>\n",
       "    </tr>\n",
       "    <tr>\n",
       "      <th>75%</th>\n",
       "      <td>0.007957</td>\n",
       "      <td>86.000000</td>\n",
       "      <td>40.000000</td>\n",
       "      <td>3445.000000</td>\n",
       "    </tr>\n",
       "    <tr>\n",
       "      <th>max</th>\n",
       "      <td>3.236718</td>\n",
       "      <td>677.000000</td>\n",
       "      <td>499.000000</td>\n",
       "      <td>57468.000000</td>\n",
       "    </tr>\n",
       "  </tbody>\n",
       "</table>\n",
       "</div>"
      ],
      "text/plain": [
       "             score    baseScore    voteCount     wordCount\n",
       "count  2385.000000  2385.000000  2385.000000   2385.000000\n",
       "mean      0.018153    71.339203    36.330398   2963.753040\n",
       "std       0.104511    68.800261    38.117311   3937.558236\n",
       "min      -0.017480   -50.000000    11.000000      0.000000\n",
       "25%       0.001787    32.000000    16.000000    730.000000\n",
       "50%       0.003472    50.000000    24.000000   1660.000000\n",
       "75%       0.007957    86.000000    40.000000   3445.000000\n",
       "max       3.236718   677.000000   499.000000  57468.000000"
      ]
     },
     "execution_count": 111,
     "metadata": {},
     "output_type": "execute_result"
    }
   ],
   "source": [
    "df.describe()"
   ]
  },
  {
   "cell_type": "code",
   "execution_count": 141,
   "metadata": {},
   "outputs": [
    {
     "name": "stderr",
     "output_type": "stream",
     "text": [
      "/media/wassname/SGIronWolf/projects5/bs_writing_detector/.venv/lib/python3.11/site-packages/pandas/core/arraylike.py:396: RuntimeWarning: invalid value encountered in log\n",
      "  result = getattr(ufunc, method)(*inputs, **kwargs)\n"
     ]
    },
    {
     "data": {
      "text/plain": [
       "<Axes: >"
      ]
     },
     "execution_count": 141,
     "metadata": {},
     "output_type": "execute_result"
    },
    {
     "data": {
      "image/png": "[encoded data removed]",
      "text/plain": [
       "<Figure size 640x480 with 1 Axes>"
      ]
     },
     "metadata": {},
     "output_type": "display_data"
    }
   ],
   "source": [
    "import numpy as np\n",
    "v = np.log(df['baseScore']+0.001)\n",
    "v = (v - v.min())/v.max() - 1 \n",
    "v = np.clip(v, 0, 1)\n",
    "df['novelty'] = v\n",
    "df['novelty'].hist(bins=26)"
   ]
  },
  {
   "cell_type": "code",
   "execution_count": 144,
   "metadata": {},
   "outputs": [
    {
     "name": "stdout",
     "output_type": "stream",
     "text": [
      "../samples/2025_lw_parkinson-s-law-and-the-ideology-of-statistics-1.md 3.236717700958252\n",
      "../samples/2025_lw_parkinson-s-law-and-the-ideology-of-statistics-1.md 3.236717700958252\n",
      "../samples/2025_lw_what-s-the-short-timeline-plan.md 2.114389657974243\n",
      "../samples/2025_lw_what-s-the-short-timeline-plan.md 2.114389657974243\n",
      "../samples/2025_lw_the-laws-of-large-numbers.md 1.2245203256607056\n",
      "../samples/2025_lw_the-laws-of-large-numbers.md 1.2245203256607056\n",
      "../samples/2025_lw_the-intelligence-curse.md 1.2061121463775635\n",
      "../samples/2025_lw_the-intelligence-curse.md 1.2061121463775635\n",
      "../samples/2025_lw_human-study-on-ai-spear-phishing-campaigns.md 0.9995136260986328\n",
      "../samples/2025_lw_human-study-on-ai-spear-phishing-campaigns.md 0.9995136260986328\n"
     ]
    }
   ],
   "source": [
    "def to_markdown(row: dict) -> str:\n",
    "    md = markdownify(row[\"htmlBody\"]).strip()\n",
    "\n",
    "    return f\"\"\"---\n",
    "title: {row['title']}\n",
    "date: {row['modifiedAt']}\n",
    "url: {row['pageUrl']}\n",
    "novelty: {row['novelty']}\n",
    "score: {row['score']}\n",
    "baseScore: {row['baseScore']}\n",
    "voteCount: {row['voteCount']}\n",
    "---\n",
    "{md}\n",
    "\"\"\"\n",
    "\n",
    "\n",
    "for i in range(5):\n",
    "    for ii in [i, -i-1]:\n",
    "        row = df.iloc[i]\n",
    "        s = to_markdown(row)\n",
    "        f = Path(f'../samples/{row[\"modifiedAt\"].year}_lw_{row[\"slug\"]}.md')\n",
    "        f.write_text(s)\n",
    "        print(f\"{f} {row['score']:>4}\")"
   ]
  },
  {
   "cell_type": "code",
   "execution_count": null,
   "metadata": {},
   "outputs": [],
   "source": []
  },
  {
   "cell_type": "code",
   "execution_count": null,
   "metadata": {},
   "outputs": [],
   "source": []
  }
 ],
 "metadata": {
  "kernelspec": {
   "display_name": ".venv",
   "language": "python",
   "name": "python3"
  },
  "language_info": {
   "codemirror_mode": {
    "name": "ipython",
    "version": 3
   },
   "file_extension": ".py",
   "mimetype": "text/x-python",
   "name": "python",
   "nbconvert_exporter": "python",
   "pygments_lexer": "ipython3",
   "version": "3.11.0rc1"
  }
 },
 "nbformat": 4,
 "nbformat_minor": 2
}
